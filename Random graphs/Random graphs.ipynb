{
 "cells": [
  {
   "cell_type": "code",
   "execution_count": 1,
   "metadata": {},
   "outputs": [],
   "source": [
    "import numpy as np\n",
    "import math\n",
    "from matplotlib import pyplot as plt\n",
    "from tqdm.notebook import tqdm"
   ]
  },
  {
   "cell_type": "code",
   "execution_count": 2,
   "metadata": {},
   "outputs": [],
   "source": [
    "def comb(n, r):\n",
    "    return int(math.factorial(int(n)) / (math.factorial(int(r)) * math.factorial(int(n - r))))"
   ]
  },
  {
   "cell_type": "code",
   "execution_count": 3,
   "metadata": {},
   "outputs": [],
   "source": [
    "def generate_graph(n_nodes, conn_prob):\n",
    "    graph = [[] for n in range(n_nodes)]\n",
    "    \n",
    "    # A graph contains at most nC2 edges\n",
    "    probabilities = np.random.rand(comb(n_nodes, 2))\n",
    "    count = 0\n",
    "    for i in range(n_nodes):\n",
    "        for j in range(i + 1, n_nodes):\n",
    "            if probabilities[count] < conn_prob:\n",
    "                graph[i].append(j)\n",
    "                graph[j].append(i)\n",
    "                \n",
    "            count += 1\n",
    "                \n",
    "    return graph\n",
    "    "
   ]
  },
  {
   "cell_type": "code",
   "execution_count": 4,
   "metadata": {},
   "outputs": [],
   "source": [
    "def bfs(graph, source):\n",
    "    visited = [False] * len(graph)\n",
    "    visited[source] = True\n",
    "    \n",
    "    queue = [source]\n",
    "    \n",
    "    while len(queue) != 0:\n",
    "        current = queue.pop(0)\n",
    "        for adjacent in graph[current]:\n",
    "            if not visited[adjacent]:\n",
    "                visited[adjacent] = True\n",
    "                queue.append(adjacent)\n",
    "                \n",
    "    return np.array(visited)"
   ]
  },
  {
   "cell_type": "code",
   "execution_count": 5,
   "metadata": {},
   "outputs": [],
   "source": [
    "def get_n_components(graph, source=0):\n",
    "    all_visited = False\n",
    "    components = 0\n",
    "    \n",
    "    current_visited = np.array([False] * len(graph))\n",
    "    \n",
    "    while not all_visited:\n",
    "        visited = bfs(graph, source)\n",
    "        current_visited = current_visited | visited\n",
    "        if not (False in current_visited):\n",
    "            all_visited = True \n",
    "        else:\n",
    "            source = np.where(current_visited == False)[0][0]\n",
    "        components += 1\n",
    "        \n",
    "    return components    "
   ]
  },
  {
   "cell_type": "code",
   "execution_count": 6,
   "metadata": {},
   "outputs": [],
   "source": [
    "TESTS = 30\n",
    "NODES = 1000"
   ]
  },
  {
   "cell_type": "code",
   "execution_count": 7,
   "metadata": {},
   "outputs": [
    {
     "data": {
      "application/vnd.jupyter.widget-view+json": {
       "model_id": "c5465681697843dc969a2094ab9dfdfb",
       "version_major": 2,
       "version_minor": 0
      },
      "text/plain": [
       "HBox(children=(FloatProgress(value=0.0, max=20.0), HTML(value='')))"
      ]
     },
     "metadata": {},
     "output_type": "display_data"
    },
    {
     "name": "stdout",
     "output_type": "stream",
     "text": [
      "\n"
     ]
    }
   ],
   "source": [
    "probabilities = []\n",
    "probs_range = np.arange(0.001, 0.021, 0.001)\n",
    "\n",
    "for prob in tqdm(probs_range):\n",
    "    n_connected = 0\n",
    "    tests_components = []\n",
    "    for n_test in range(TESTS):\n",
    "        graph = generate_graph(NODES, prob)\n",
    "        \n",
    "        test_components = get_n_components(graph)\n",
    "        tests_components.append(test_components)\n",
    "        \n",
    "        if (test_components == 1):\n",
    "            n_connected += 1\n",
    "            \n",
    "    probabilities.append(n_connected / TESTS)"
   ]
  },
  {
   "cell_type": "code",
   "execution_count": 8,
   "metadata": {},
   "outputs": [
    {
     "data": {
      "image/png": "[encoded data removed]",
      "text/plain": [
       "<Figure size 1080x576 with 1 Axes>"
      ]
     },
     "metadata": {
      "needs_background": "light"
     },
     "output_type": "display_data"
    }
   ],
   "source": [
    "plt.figure(figsize=(15, 8))\n",
    "\n",
    "plt.xlabel('p')\n",
    "plt.ylabel('p-connected')\n",
    "plt.title('Connected graph n={}'.format(NODES))\n",
    "\n",
    "plt.plot(probs_range, probabilities)\n",
    "\n",
    "plt.show()\n",
    "plt.close()"
   ]
  },
  {
   "cell_type": "code",
   "execution_count": null,
   "metadata": {},
   "outputs": [],
   "source": []
  }
 ],
 "metadata": {
  "kernelspec": {
   "display_name": "Python 3",
   "language": "python",
   "name": "python3"
  },
  "language_info": {
   "codemirror_mode": {
    "name": "ipython",
    "version": 3
   },
   "file_extension": ".py",
   "mimetype": "text/x-python",
   "name": "python",
   "nbconvert_exporter": "python",
   "pygments_lexer": "ipython3",
   "version": "3.7.7"
  },
  "widgets": {
   "application/vnd.jupyter.widget-state+json": {
    "state": {
     "034210dab23d4993b0b32d46326409c3": {
      "model_module": "@jupyter-widgets/base",
      "model_module_version": "1.2.0",
      "model_name": "LayoutModel",
      "state": {}
     },
     "06ddd88081464c5891958191b8bead69": {
      "model_module": "@jupyter-widgets/base",
      "model_module_version": "1.2.0",
      "model_name": "LayoutModel",
      "state": {}
     },
     "13d9d3930d94407da957d05bdc4f5903": {
      "model_module": "@jupyter-widgets/controls",
      "model_module_version": "1.5.0",
      "model_name": "HBoxModel",
      "state": {
       "children": [
        "IPY_MODEL_726f4c0f80734be3914b9d3154c584e7",
        "IPY_MODEL_69661fbe0cc843e3a81fbb3ed511366b"
       ],
       "layout": "IPY_MODEL_034210dab23d4993b0b32d46326409c3"
      }
     },
     "1a800c3d95794b518048fed4943b1890": {
      "model_module": "@jupyter-widgets/controls",
      "model_module_version": "1.5.0",
      "model_name": "ProgressStyleModel",
      "state": {
       "description_width": "initial"
      }
     },
     "1e74e92af8f84667b50f5197f0032518": {
      "model_module": "@jupyter-widgets/controls",
      "model_module_version": "1.5.0",
      "model_name": "HTMLModel",
      "state": {
       "layout": "IPY_MODEL_46eecf60698648a7aef9cde619c1e056",
       "style": "IPY_MODEL_d832741b95a44bde8bb59f39640c54c7",
       "value": " 20/20 [01:01&lt;00:00,  3.10s/it]"
      }
     },
     "2932222273684f2aa024a7776708aae4": {
      "model_module": "@jupyter-widgets/base",
      "model_module_version": "1.2.0",
      "model_name": "LayoutModel",
      "state": {}
     },
     "2f8c53ee215945b2918b1221ba191b0e": {
      "model_module": "@jupyter-widgets/base",
      "model_module_version": "1.2.0",
      "model_name": "LayoutModel",
      "state": {}
     },
     "301b6c4afa14450e88adb037575551e4": {
      "model_module": "@jupyter-widgets/controls",
      "model_module_version": "1.5.0",
      "model_name": "DescriptionStyleModel",
      "state": {
       "description_width": ""
      }
     },
     "323fcac16653488a8d70c91280491fe4": {
      "model_module": "@jupyter-widgets/controls",
      "model_module_version": "1.5.0",
      "model_name": "ProgressStyleModel",
      "state": {
       "description_width": "initial"
      }
     },
     "352215c3affa46ca8c5d645d9b1858ed": {
      "model_module": "@jupyter-widgets/base",
      "model_module_version": "1.2.0",
      "model_name": "LayoutModel",
      "state": {}
     },
     "46eecf60698648a7aef9cde619c1e056": {
      "model_module": "@jupyter-widgets/base",
      "model_module_version": "1.2.0",
      "model_name": "LayoutModel",
      "state": {}
     },
     "5089ac4cbe9449049483b1ebb81be4ea": {
      "model_module": "@jupyter-widgets/controls",
      "model_module_version": "1.5.0",
      "model_name": "FloatProgressModel",
      "state": {
       "bar_style": "success",
       "description": "100%",
       "layout": "IPY_MODEL_a8ec560592ed40e5b234a96dd94ecc40",
       "max": 20,
       "style": "IPY_MODEL_1a800c3d95794b518048fed4943b1890",
       "value": 20
      }
     },
     "57982143b57640f4abd6bf5e5652f301": {
      "model_module": "@jupyter-widgets/controls",
      "model_module_version": "1.5.0",
      "model_name": "FloatProgressModel",
      "state": {
       "bar_style": "success",
       "description": "100%",
       "layout": "IPY_MODEL_06ddd88081464c5891958191b8bead69",
       "max": 20,
       "style": "IPY_MODEL_323fcac16653488a8d70c91280491fe4",
       "value": 20
      }
     },
     "69661fbe0cc843e3a81fbb3ed511366b": {
      "model_module": "@jupyter-widgets/controls",
      "model_module_version": "1.5.0",
      "model_name": "HTMLModel",
      "state": {
       "layout": "IPY_MODEL_7e57f09d96f8463884ae488cd515e532",
       "style": "IPY_MODEL_f7114abc5d37478b8aade55035b7d9f7",
       "value": " 0/20 [00:10&lt;?, ?it/s]"
      }
     },
     "726f4c0f80734be3914b9d3154c584e7": {
      "model_module": "@jupyter-widgets/controls",
      "model_module_version": "1.5.0",
      "model_name": "FloatProgressModel",
      "state": {
       "bar_style": "danger",
       "description": "  0%",
       "layout": "IPY_MODEL_e77e7217605b43e2bb30d3f4ecb2c388",
       "max": 20,
       "style": "IPY_MODEL_e37f8f9841984d62a7b380e0ea301950"
      }
     },
     "7659bbc3c2a94994b5fa13a0058061c5": {
      "model_module": "@jupyter-widgets/base",
      "model_module_version": "1.2.0",
      "model_name": "LayoutModel",
      "state": {}
     },
     "7707c09da24948dd943a95a609c34338": {
      "model_module": "@jupyter-widgets/controls",
      "model_module_version": "1.5.0",
      "model_name": "ProgressStyleModel",
      "state": {
       "description_width": "initial"
      }
     },
     "7c84e405869b4229a83e7893be816e43": {
      "model_module": "@jupyter-widgets/controls",
      "model_module_version": "1.5.0",
      "model_name": "DescriptionStyleModel",
      "state": {
       "description_width": ""
      }
     },
     "7df50e8b952b41f796741e0c842c4eee": {
      "model_module": "@jupyter-widgets/controls",
      "model_module_version": "1.5.0",
      "model_name": "HBoxModel",
      "state": {
       "children": [
        "IPY_MODEL_84701e0d57104f21929e2e9d58e1f8a8",
        "IPY_MODEL_9c7adaf100844843a599bb4d7ce12cfc"
       ],
       "layout": "IPY_MODEL_9e14f8456ed742b497035cb670fb99c8"
      }
     },
     "7e57f09d96f8463884ae488cd515e532": {
      "model_module": "@jupyter-widgets/base",
      "model_module_version": "1.2.0",
      "model_name": "LayoutModel",
      "state": {}
     },
     "80ab850d1a6b40c2b573193ab9fa7d07": {
      "model_module": "@jupyter-widgets/base",
      "model_module_version": "1.2.0",
      "model_name": "LayoutModel",
      "state": {}
     },
     "84701e0d57104f21929e2e9d58e1f8a8": {
      "model_module": "@jupyter-widgets/controls",
      "model_module_version": "1.5.0",
      "model_name": "FloatProgressModel",
      "state": {
       "bar_style": "success",
       "description": "100%",
       "layout": "IPY_MODEL_2932222273684f2aa024a7776708aae4",
       "max": 20,
       "style": "IPY_MODEL_931912c301ba4442a0375f44e2b29d90",
       "value": 20
      }
     },
     "931912c301ba4442a0375f44e2b29d90": {
      "model_module": "@jupyter-widgets/controls",
      "model_module_version": "1.5.0",
      "model_name": "ProgressStyleModel",
      "state": {
       "description_width": "initial"
      }
     },
     "93b41ec0192d4f40b5e9658f046b21ca": {
      "model_module": "@jupyter-widgets/base",
      "model_module_version": "1.2.0",
      "model_name": "LayoutModel",
      "state": {}
     },
     "9c7adaf100844843a599bb4d7ce12cfc": {
      "model_module": "@jupyter-widgets/controls",
      "model_module_version": "1.5.0",
      "model_name": "HTMLModel",
      "state": {
       "layout": "IPY_MODEL_2f8c53ee215945b2918b1221ba191b0e",
       "style": "IPY_MODEL_7c84e405869b4229a83e7893be816e43",
       "value": " 20/20 [00:35&lt;00:00,  1.80s/it]"
      }
     },
     "9e14f8456ed742b497035cb670fb99c8": {
      "model_module": "@jupyter-widgets/base",
      "model_module_version": "1.2.0",
      "model_name": "LayoutModel",
      "state": {}
     },
     "a57c5cf6df704cbd95355eb6a0492f6f": {
      "model_module": "@jupyter-widgets/base",
      "model_module_version": "1.2.0",
      "model_name": "LayoutModel",
      "state": {}
     },
     "a8ec560592ed40e5b234a96dd94ecc40": {
      "model_module": "@jupyter-widgets/base",
      "model_module_version": "1.2.0",
      "model_name": "LayoutModel",
      "state": {}
     },
     "b9ad4088f3d8455a84e77d63bc83bf52": {
      "model_module": "@jupyter-widgets/controls",
      "model_module_version": "1.5.0",
      "model_name": "FloatProgressModel",
      "state": {
       "bar_style": "danger",
       "description": "  0%",
       "layout": "IPY_MODEL_def5579305444ded8e74ef133b78138d",
       "max": 20,
       "style": "IPY_MODEL_7707c09da24948dd943a95a609c34338"
      }
     },
     "bbf7b5b6e73646afb89a886c0b0a32bd": {
      "model_module": "@jupyter-widgets/controls",
      "model_module_version": "1.5.0",
      "model_name": "HTMLModel",
      "state": {
       "layout": "IPY_MODEL_352215c3affa46ca8c5d645d9b1858ed",
       "style": "IPY_MODEL_fb3db67cad2043d6909175aef8e1eca0",
       "value": " 0/20 [00:35&lt;?, ?it/s]"
      }
     },
     "bc84d2e09b204266bc85697b9728af26": {
      "model_module": "@jupyter-widgets/controls",
      "model_module_version": "1.5.0",
      "model_name": "HBoxModel",
      "state": {
       "children": [
        "IPY_MODEL_57982143b57640f4abd6bf5e5652f301",
        "IPY_MODEL_f5743acf5ce9426ab546358018bde771"
       ],
       "layout": "IPY_MODEL_7659bbc3c2a94994b5fa13a0058061c5"
      }
     },
     "bdd0ae100eb94da59e21e8f2f40289c4": {
      "model_module": "@jupyter-widgets/controls",
      "model_module_version": "1.5.0",
      "model_name": "HBoxModel",
      "state": {
       "children": [
        "IPY_MODEL_b9ad4088f3d8455a84e77d63bc83bf52",
        "IPY_MODEL_bbf7b5b6e73646afb89a886c0b0a32bd"
       ],
       "layout": "IPY_MODEL_a57c5cf6df704cbd95355eb6a0492f6f"
      }
     },
     "c5465681697843dc969a2094ab9dfdfb": {
      "model_module": "@jupyter-widgets/controls",
      "model_module_version": "1.5.0",
      "model_name": "HBoxModel",
      "state": {
       "children": [
        "IPY_MODEL_5089ac4cbe9449049483b1ebb81be4ea",
        "IPY_MODEL_1e74e92af8f84667b50f5197f0032518"
       ],
       "layout": "IPY_MODEL_80ab850d1a6b40c2b573193ab9fa7d07"
      }
     },
     "d832741b95a44bde8bb59f39640c54c7": {
      "model_module": "@jupyter-widgets/controls",
      "model_module_version": "1.5.0",
      "model_name": "DescriptionStyleModel",
      "state": {
       "description_width": ""
      }
     },
     "def5579305444ded8e74ef133b78138d": {
      "model_module": "@jupyter-widgets/base",
      "model_module_version": "1.2.0",
      "model_name": "LayoutModel",
      "state": {}
     },
     "e37f8f9841984d62a7b380e0ea301950": {
      "model_module": "@jupyter-widgets/controls",
      "model_module_version": "1.5.0",
      "model_name": "ProgressStyleModel",
      "state": {
       "description_width": "initial"
      }
     },
     "e77e7217605b43e2bb30d3f4ecb2c388": {
      "model_module": "@jupyter-widgets/base",
      "model_module_version": "1.2.0",
      "model_name": "LayoutModel",
      "state": {}
     },
     "f5743acf5ce9426ab546358018bde771": {
      "model_module": "@jupyter-widgets/controls",
      "model_module_version": "1.5.0",
      "model_name": "HTMLModel",
      "state": {
       "layout": "IPY_MODEL_93b41ec0192d4f40b5e9658f046b21ca",
       "style": "IPY_MODEL_301b6c4afa14450e88adb037575551e4",
       "value": " 20/20 [00:00&lt;00:00, 47.59it/s]"
      }
     },
     "f7114abc5d37478b8aade55035b7d9f7": {
      "model_module": "@jupyter-widgets/controls",
      "model_module_version": "1.5.0",
      "model_name": "DescriptionStyleModel",
      "state": {
       "description_width": ""
      }
     },
     "fb3db67cad2043d6909175aef8e1eca0": {
      "model_module": "@jupyter-widgets/controls",
      "model_module_version": "1.5.0",
      "model_name": "DescriptionStyleModel",
      "state": {
       "description_width": ""
      }
     }
    },
    "version_major": 2,
    "version_minor": 0
   }
  }
 },
 "nbformat": 4,
 "nbformat_minor": 4
}
